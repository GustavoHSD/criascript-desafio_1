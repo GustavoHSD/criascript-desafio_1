{
 "cells": [
  {
   "cell_type": "markdown",
   "metadata": {},
   "source": [
    "# Desafio 1\n",
    "## Install pyspark"
   ]
  },
  {
   "cell_type": "code",
   "execution_count": 133,
   "metadata": {},
   "outputs": [
    {
     "name": "stdout",
     "output_type": "stream",
     "text": [
      "Requirement already satisfied: pyspark in ./.env/lib/python3.11/site-packages (3.5.0)\n",
      "Requirement already satisfied: py4j==0.10.9.7 in ./.env/lib/python3.11/site-packages (from pyspark) (0.10.9.7)\n",
      "Note: you may need to restart the kernel to use updated packages.\n"
     ]
    }
   ],
   "source": [
    "%pip install pyspark"
   ]
  },
  {
   "cell_type": "markdown",
   "metadata": {},
   "source": [
    "## Initialize spark session"
   ]
  },
  {
   "cell_type": "code",
   "execution_count": 134,
   "metadata": {},
   "outputs": [],
   "source": [
    "from pyspark.sql import SparkSession\n",
    "\n",
    "spark = SparkSession.builder.appName('Desafio_1').getOrCreate()"
   ]
  },
  {
   "cell_type": "markdown",
   "metadata": {},
   "source": [
    "## Load dataframe"
   ]
  },
  {
   "cell_type": "code",
   "execution_count": 135,
   "metadata": {},
   "outputs": [
    {
     "name": "stdout",
     "output_type": "stream",
     "text": [
      "root\n",
      " |-- Unnamed: 0: integer (nullable = true)\n",
      " |-- track_id: string (nullable = true)\n",
      " |-- artists: string (nullable = true)\n",
      " |-- album_name: string (nullable = true)\n",
      " |-- track_name: string (nullable = true)\n",
      " |-- popularity: string (nullable = true)\n",
      " |-- duration_ms: string (nullable = true)\n",
      " |-- explicit: string (nullable = true)\n",
      " |-- danceability: string (nullable = true)\n",
      " |-- energy: string (nullable = true)\n",
      " |-- key: string (nullable = true)\n",
      " |-- loudness: string (nullable = true)\n",
      " |-- mode: string (nullable = true)\n",
      " |-- speechiness: string (nullable = true)\n",
      " |-- acousticness: string (nullable = true)\n",
      " |-- instrumentalness: double (nullable = true)\n",
      " |-- liveness: string (nullable = true)\n",
      " |-- valence: string (nullable = true)\n",
      " |-- tempo: double (nullable = true)\n",
      " |-- time_signature: double (nullable = true)\n",
      " |-- track_genre: string (nullable = true)\n",
      "\n"
     ]
    }
   ],
   "source": [
    "df = spark.read.csv(\"content/spotify.csv\", header=True, inferSchema=True)\n",
    "df.printSchema()"
   ]
  },
  {
   "cell_type": "markdown",
   "metadata": {},
   "source": [
    "## Select interest columns"
   ]
  },
  {
   "cell_type": "code",
   "execution_count": 136,
   "metadata": {},
   "outputs": [
    {
     "name": "stdout",
     "output_type": "stream",
     "text": [
      "root\n",
      " |-- track_id: string (nullable = true)\n",
      " |-- artists: string (nullable = true)\n",
      " |-- track_name: string (nullable = true)\n",
      " |-- popularity: string (nullable = true)\n",
      " |-- duration_ms: string (nullable = true)\n",
      " |-- explicit: string (nullable = true)\n",
      " |-- danceability: string (nullable = true)\n",
      " |-- energy: string (nullable = true)\n",
      " |-- loudness: string (nullable = true)\n",
      " |-- speechiness: string (nullable = true)\n",
      " |-- acousticness: string (nullable = true)\n",
      " |-- liveness: string (nullable = true)\n",
      " |-- valence: string (nullable = true)\n",
      " |-- track_genre: string (nullable = true)\n",
      "\n"
     ]
    }
   ],
   "source": [
    "selected_columns = [\n",
    "    'track_id', \n",
    "    'artists', \n",
    "    'track_name', \n",
    "    'popularity', \n",
    "    'duration_ms',\n",
    "    'explicit', \n",
    "    'danceability', \n",
    "    'energy', \n",
    "    'loudness', \n",
    "    'speechiness',\n",
    "    'acousticness',\n",
    "    'liveness',\n",
    "    'valence',\n",
    "    'track_genre'\n",
    "    ]\n",
    "\n",
    "f_df = df.select(*selected_columns)\n",
    "f_df.printSchema()"
   ]
  },
  {
   "cell_type": "markdown",
   "metadata": {},
   "source": [
    "## Clean dataframe"
   ]
  },
  {
   "cell_type": "markdown",
   "metadata": {},
   "source": [
    "### Inconsistent values"
   ]
  },
  {
   "cell_type": "markdown",
   "metadata": {},
   "source": [
    "#### Popularity"
   ]
  },
  {
   "cell_type": "code",
   "execution_count": 137,
   "metadata": {},
   "outputs": [
    {
     "name": "stdout",
     "output_type": "stream",
     "text": [
      "+------------------------------------------------------+\n",
      "|popularity                                            |\n",
      "+------------------------------------------------------+\n",
      "| Pt. 1) [Music from the Original TV Series]\"          |\n",
      "| Adagio \"\"Nimrod\"\" (Arr. J. Meisl for String Quartet)\"|\n",
      "| Op. 46\"                                              |\n",
      "| Op. 310\"                                             |\n",
      "| Niedermeier & Whitehead                              |\n",
      "| wann wird die Zeit erscheinen?\"\"\"                    |\n",
      "| frohlocket\"\"\"                                        |\n",
      "| wann wird die Zeit erscheinen?\"\"\"                    |\n",
      "| Op. 2: Coda. Alla Polacca - Live\"                    |\n",
      "| o starker König\"\"\"                                   |\n",
      "| frohlocket\"\"\"                                        |\n",
      "| o starker König\"\"\"                                   |\n",
      "| frohlocket\"\"\"                                        |\n",
      "| Op.52 No.6                                           |\n",
      "| Op.52 No.6                                           |\n",
      "| Op. 27 No. 2: I. Adagio sostenuto\"                   |\n",
      "| Adagio \"\"Nimrod\"\" (Arr. J. Meisl for String Quartet)\"|\n",
      "| K.25: 2. Variation I\"                                |\n",
      "| vous dirai-je Maman\"\"                                |\n",
      "| K.180: 3. Variation II\"                              |\n",
      "| vous dirai-je Maman\"\"                                |\n",
      "| K.24: 3. Variation II\"                               |\n",
      "| vous dirai-je Maman\"\"                                |\n",
      "| j'ai perdu mon amant\"\" K.360: Var. II\"               |\n",
      "| vous dirai-je Maman\"\"                                |\n",
      "| j'ai perdu mon amant\"\" K.360: Var. I\"                |\n",
      "| il catalogo è questo\"\"\"                              |\n",
      "| j'ai perdu mon amant\"\" K.360: Var. VI\"               |\n",
      "| K.25: 1. Theme: Allegro\"                             |\n",
      "| K. 354/299a\"                                         |\n",
      "| K.24: 9. Variation VIII: Tempo I\"                    |\n",
      "| K.180: 5. Variation IV\"                              |\n",
      "| vous dirai-je Maman\"\"                                |\n",
      "| vous dirai-je Maman\"\"                                |\n",
      "| K. 180/173c\"                                         |\n",
      "| K.25: 8. Variation VII\"                              |\n",
      "| il catalogo è questo\"\"\"                              |\n",
      "| K.535\"                                               |\n",
      "| vous dirai-je Maman\"\"                                |\n",
      "| j'ai perdu mon amant\"\" K.360: Var. I\"                |\n",
      "| il catalogo è questo\"\"\"                              |\n",
      "| vous dirai-je Maman\"\"                                |\n",
      "| j'ai perdu mon amant\"\" K.360: Var. II\"               |\n",
      "| vous dirai-je Maman\"\"                                |\n",
      "| vous dirai-je Maman\"\"                                |\n",
      "| il catalogo è questo\"\"\"                              |\n",
      "| Villains!\"\" - Edited Version\"                        |\n",
      "| o starker König\"\"\"                                   |\n",
      "| frohlocket\"\"\"                                        |\n",
      "| frohlocket\"\"\"                                        |\n",
      "| wann wird die Zeit erscheinen?\"\"\"                    |\n",
      "| o starker König\"\"\"                                   |\n",
      "| frohlocket\"\"\"                                        |\n",
      "| Op. 27 No. 2: I. Adagio sostenuto\"                   |\n",
      "| Vol. 9\"\")\"                                           |\n",
      "| Vol. 9\"\")\"                                           |\n",
      "| Vienna 2011\"                                         |\n",
      "|Taquinez les touches!                                 |\n",
      "|The Wait                                              |\n",
      "|Nabard                                                |\n",
      "|The Fury                                              |\n",
      "|Shekast                                               |\n",
      "|The Mirage                                            |\n",
      "|Zendani                                               |\n",
      "|Farar                                                 |\n",
      "|Sarab                                                 |\n",
      "| RV 297\"\")\"                                           |\n",
      "| datteri!\"\"\"                                          |\n",
      "| mio babbino caro\"\" - Live In London / 1994\"          |\n",
      "| ne andrò lontana\"\" (Wally)\"                          |\n",
      "| Chorus)\"                                             |\n",
      "| corre voce che l'Etiope ardisca\"\" (Ramfis            |\n",
      "| vissi d'amore\"\"\"                                     |\n",
      "| dolce svegliare\"\"\"                                   |\n",
      "| Don José)\"                                           |\n",
      "| Messaggero                                           |\n",
      "| Ramfis                                               |\n",
      "| tu più non torni\"\" (Duetto) - \"\"Che ora sia\"\"\"       |\n",
      "| senti\"\"\"                                             |\n",
      "| Violetta                                             |\n",
      "| Radamès)\"                                            |\n",
      "| ad Iside\"\" (Coro)\"                                   |\n",
      "| o diletta                                            |\n",
      "| Zurga)\"                                              |\n",
      "| Pang! Olà                                            |\n",
      "| RV 297\"\")\"                                           |\n",
      "| d'amante\"\" (Aida)\"                                   |\n",
      "| le jasmin\"\" (Lakmé                                   |\n",
      "| enormi ed impotenti\"\"\"                               |\n",
      "| o cara“ (Arturo)\"                                    |\n",
      "| Ramfis                                               |\n",
      "| o guerriero vindice\"\" (Coro)\"                        |\n",
      "| ad Iside\"\" (Il Re                                    |\n",
      "| Pt. 1\"\")\"                                            |\n",
      "|\"Pallavicino: L'Antiope: \"\"Sdegni                     |\n",
      "| diletto ai numi\"\" (Ramfis                            |\n",
      "| Amneris)\"                                            |\n",
      "| vissi d'amore\"\"\"                                     |\n",
      "| sul crin ti piovano\"\" (Schiave                       |\n",
      "| no                                                   |\n",
      "| Chorus) [Live]\"                                      |\n",
      "| donde vieni?\"\" - \"\"Oh mio rimorso!\"\"\"                |\n",
      "| New York / 2011\"                                     |\n",
      "| Frasquita                                            |\n",
      "| Amneris                                              |\n",
      "| Aida)\"                                               |\n",
      "| errante misero\"\" - Live In New York / 1981\"          |\n",
      "| Radamès                                              |\n",
      "| Act 1                                                |\n",
      "| pensiero\"\" (Chorus of The Hebrew Slaves)\"            |\n",
      "| Aida)\"                                               |\n",
      "| qual nuovo fremito t'assal                           |\n",
      "| ascolta\"\"\"                                           |\n",
      "| addio                                                |\n",
      "| vissi d'amore\"\"\"                                     |\n",
      "| Amneris                                              |\n",
      "| Amneris                                              |\n",
      "| Re                                                   |\n",
      "| Tulsi Kumar)\"                                        |\n",
      "| Sidharth Malhotra)\"                                  |\n",
      "|Rock Around the Clock                                 |\n",
      "| вперёд!\"\"\"                                           |\n",
      "| вперёд!\"\"\"                                           |\n",
      "| вперёд!\"\"\"                                           |\n",
      "| вперёд!\"\"\"                                           |\n",
      "| не приставай к мужчинам\"\")\"                          |\n",
      "| вперед!\"\")\"                                          |\n",
      "| вперёд!\"\"\"                                           |\n",
      "| kotoraya Tatyana\"\"\"                                  |\n",
      "| kotoraya Tatyana\"\"\"                                  |\n",
      "| trubyat!\"\"\"                                          |\n",
      "| Olga\"\"\"                                              |\n",
      "| His Fingers Were Strong\"\"\"                           |\n",
      "| Redemptor omnium\"\"\"                                  |\n",
      "+------------------------------------------------------+\n",
      "\n"
     ]
    }
   ],
   "source": [
    "from pyspark.sql.functions import col, asc\n",
    "\n",
    "f_df.select('popularity').where(~col('popularity').rlike('^[0-9]+$')).show(df.count(), truncate=False) # Non number popularity\n"
   ]
  },
  {
   "cell_type": "markdown",
   "metadata": {},
   "source": [
    "#### Track genre"
   ]
  },
  {
   "cell_type": "code",
   "execution_count": 138,
   "metadata": {},
   "outputs": [
    {
     "name": "stdout",
     "output_type": "stream",
     "text": [
      "+-----------+\n",
      "|track_genre|\n",
      "+-----------+\n",
      "|4          |\n",
      "|4          |\n",
      "|4          |\n",
      "|4          |\n",
      "|0.576      |\n",
      "|4          |\n",
      "|3          |\n",
      "|4          |\n",
      "|4          |\n",
      "|4          |\n",
      "|3          |\n",
      "|4          |\n",
      "|3          |\n",
      "|68.958     |\n",
      "|68.958     |\n",
      "|3          |\n",
      "|4          |\n",
      "|4          |\n",
      "|74.077     |\n",
      "|3          |\n",
      "|125.262    |\n",
      "|4          |\n",
      "|117.11     |\n",
      "|4          |\n",
      "|148.759    |\n",
      "|4          |\n",
      "|4          |\n",
      "|4          |\n",
      "|4          |\n",
      "|4          |\n",
      "|4          |\n",
      "|4          |\n",
      "|105.188    |\n",
      "|151.539    |\n",
      "|4          |\n",
      "|3          |\n",
      "|4          |\n",
      "|4          |\n",
      "|148.759    |\n",
      "|4          |\n",
      "|4          |\n",
      "|114.211    |\n",
      "|4          |\n",
      "|76.791     |\n",
      "|68.453     |\n",
      "|4          |\n",
      "|4          |\n",
      "|4          |\n",
      "|3          |\n",
      "|3          |\n",
      "|4          |\n",
      "|4          |\n",
      "|3          |\n",
      "|3          |\n",
      "|4          |\n",
      "|4          |\n",
      "|89.01      |\n",
      "|4          |\n",
      "|4          |\n",
      "|3          |\n",
      "|5          |\n",
      "|3          |\n",
      "|1          |\n",
      "|5          |\n",
      "|5          |\n",
      "|5          |\n",
      "|1          |\n",
      "|4          |\n",
      "|3          |\n",
      "|3          |\n",
      "|5          |\n",
      "|76.691     |\n",
      "|3          |\n",
      "|4          |\n",
      "|4          |\n",
      "|0.983      |\n",
      "|0.159      |\n",
      "|3          |\n",
      "|4          |\n",
      "|95.073     |\n",
      "|4          |\n",
      "|3          |\n",
      "|0.34       |\n",
      "|5          |\n",
      "|121.165    |\n",
      "|1          |\n",
      "|3          |\n",
      "|131.721    |\n",
      "|4          |\n",
      "|4          |\n",
      "|81.078     |\n",
      "|4          |\n",
      "|10         |\n",
      "|4          |\n",
      "|133.106    |\n",
      "|91.467     |\n",
      "|4          |\n",
      "|3          |\n",
      "|89.912     |\n",
      "|134.113    |\n",
      "|3          |\n",
      "|4          |\n",
      "|3          |\n",
      "|133.67     |\n",
      "|90.051     |\n",
      "|3          |\n",
      "|4          |\n",
      "|0.114      |\n",
      "|60.015     |\n",
      "|4          |\n",
      "|1          |\n",
      "|0.103      |\n",
      "|5          |\n",
      "|1.5e-05    |\n",
      "|1          |\n",
      "|0.0898     |\n",
      "|-12.753    |\n",
      "|7          |\n",
      "|4          |\n",
      "|4          |\n",
      "|4          |\n",
      "|5          |\n",
      "|5          |\n",
      "|4          |\n",
      "|4          |\n",
      "|4          |\n",
      "|4          |\n",
      "|4          |\n",
      "|5          |\n",
      "|5          |\n",
      "|3          |\n",
      "|5          |\n",
      "|4          |\n",
      "|1          |\n",
      "+-----------+\n",
      "\n"
     ]
    }
   ],
   "source": [
    "\n",
    "f_df.select('track_genre').where(~col('track_genre').rlike('^[a-zA-Z\\- ]+$')).show(df.count(), truncate=False) # Number genre\n"
   ]
  },
  {
   "cell_type": "markdown",
   "metadata": {},
   "source": [
    "#### Acousticness"
   ]
  },
  {
   "cell_type": "code",
   "execution_count": 139,
   "metadata": {},
   "outputs": [
    {
     "name": "stdout",
     "output_type": "stream",
     "text": [
      "+------------+\n",
      "|acousticness|\n",
      "+------------+\n",
      "|  Amonasro)\"|\n",
      "|       False|\n",
      "|    Popolo)\"|\n",
      "+------------+\n",
      "\n"
     ]
    }
   ],
   "source": [
    "f_df.select('acousticness').where(~col('acousticness').rlike('^[0-9.\\-e]+$')).show()"
   ]
  },
  {
   "cell_type": "markdown",
   "metadata": {},
   "source": [
    "#### Energy"
   ]
  },
  {
   "cell_type": "code",
   "execution_count": 140,
   "metadata": {},
   "outputs": [
    {
     "name": "stdout",
     "output_type": "stream",
     "text": [
      "+--------------------+\n",
      "|              energy|\n",
      "+--------------------+\n",
      "|Hearts And Soul -...|\n",
      "|               False|\n",
      "|               False|\n",
      "|               False|\n",
      "|               False|\n",
      "|               False|\n",
      "|               False|\n",
      "|               False|\n",
      "|               False|\n",
      "|               False|\n",
      "|               False|\n",
      "|               False|\n",
      "|               False|\n",
      "|               False|\n",
      "|               False|\n",
      "|                Aida|\n",
      "|              Coro)\"|\n",
      "|               False|\n",
      "|               False|\n",
      "|               False|\n",
      "+--------------------+\n",
      "only showing top 20 rows\n",
      "\n"
     ]
    }
   ],
   "source": [
    "f_df.select('energy').where(~col('energy').rlike('^[0-9.\\-e]+$')).show()"
   ]
  },
  {
   "cell_type": "markdown",
   "metadata": {},
   "source": [
    "### Filter inconsistent values"
   ]
  },
  {
   "cell_type": "code",
   "execution_count": 141,
   "metadata": {},
   "outputs": [
    {
     "name": "stdout",
     "output_type": "stream",
     "text": [
      "root\n",
      " |-- track_id: string (nullable = true)\n",
      " |-- artists: string (nullable = true)\n",
      " |-- track_name: string (nullable = true)\n",
      " |-- popularity: integer (nullable = true)\n",
      " |-- duration_ms: integer (nullable = true)\n",
      " |-- explicit: string (nullable = true)\n",
      " |-- danceability: double (nullable = true)\n",
      " |-- energy: double (nullable = true)\n",
      " |-- loudness: double (nullable = true)\n",
      " |-- speechiness: double (nullable = true)\n",
      " |-- acousticness: double (nullable = true)\n",
      " |-- liveness: double (nullable = true)\n",
      " |-- valence: double (nullable = true)\n",
      " |-- track_genre: string (nullable = true)\n",
      "\n"
     ]
    }
   ],
   "source": [
    "\n",
    "f_df = (\n",
    "    f_df\n",
    "    .withColumn('popularity', col('popularity').cast('int'))\n",
    "    .withColumn('duration_ms', col('duration_ms').cast('int'))\n",
    "    .withColumn('danceability', col('danceability').cast('double'))\n",
    "    .withColumn('energy', col('energy').cast('double'))\n",
    "    .withColumn('loudness', col('loudness').cast('double'))\n",
    "    .withColumn('speechiness', col('speechiness').cast('double'))\n",
    "    .withColumn('acousticness', col('acousticness').cast('double'))\n",
    "    .withColumn('liveness', col('liveness').cast('double'))\n",
    "    .withColumn('valence', col('valence').cast('double'))\n",
    "    .where(~col('track_genre').rlike('^[a-zA-Z\\- ]+$'))\n",
    ")\n",
    "\n",
    "f_df.printSchema()\n",
    "\n"
   ]
  },
  {
   "cell_type": "markdown",
   "metadata": {},
   "source": [
    "## Write filtered dataframe to file"
   ]
  },
  {
   "cell_type": "code",
   "execution_count": 149,
   "metadata": {},
   "outputs": [],
   "source": [
    "f_df.coalesce(1).write.csv('content/f_spotify', header=True, mode='overwrite')"
   ]
  }
 ],
 "metadata": {
  "kernelspec": {
   "display_name": ".env",
   "language": "python",
   "name": "python3"
  },
  "language_info": {
   "codemirror_mode": {
    "name": "ipython",
    "version": 3
   },
   "file_extension": ".py",
   "mimetype": "text/x-python",
   "name": "python",
   "nbconvert_exporter": "python",
   "pygments_lexer": "ipython3",
   "version": "3.11.2"
  }
 },
 "nbformat": 4,
 "nbformat_minor": 2
}
